{
 "cells": [
  {
   "attachments": {},
   "cell_type": "markdown",
   "metadata": {},
   "source": [
    "# Authors - 20 news dataset"
   ]
  },
  {
   "attachments": {},
   "cell_type": "markdown",
   "metadata": {
    "id": "UcOPoLTScu4V"
   },
   "source": [
    "## Importing libraries"
   ]
  },
  {
   "cell_type": "code",
   "execution_count": 1,
   "metadata": {},
   "outputs": [],
   "source": [
    "import numpy as np\n",
    "import pandas as pd\n",
    "from sklearn.datasets import fetch_20newsgroups\n",
    "from sklearn.feature_extraction.text import CountVectorizer\n",
    "\n",
    "from model.dma import DMA"
   ]
  },
  {
   "attachments": {},
   "cell_type": "markdown",
   "metadata": {},
   "source": [
    "## Fetch news data"
   ]
  },
  {
   "cell_type": "code",
   "execution_count": 2,
   "metadata": {},
   "outputs": [],
   "source": [
    "categories = ['comp.graphics', 'rec.motorcycles', 'talk.politics.guns']"
   ]
  },
  {
   "cell_type": "code",
   "execution_count": 3,
   "metadata": {},
   "outputs": [],
   "source": [
    "# Load 20 Newsgroups data\n",
    "newsgroups_train = fetch_20newsgroups(subset='train', categories=categories)"
   ]
  },
  {
   "cell_type": "code",
   "execution_count": 4,
   "metadata": {},
   "outputs": [
    {
     "data": {
      "text/plain": [
       "['comp.graphics', 'rec.motorcycles', 'talk.politics.guns']"
      ]
     },
     "execution_count": 4,
     "metadata": {},
     "output_type": "execute_result"
    }
   ],
   "source": [
    "newsgroups_train.target_names"
   ]
  },
  {
   "cell_type": "code",
   "execution_count": 5,
   "metadata": {},
   "outputs": [
    {
     "data": {
      "text/plain": [
       "1728"
      ]
     },
     "execution_count": 5,
     "metadata": {},
     "output_type": "execute_result"
    }
   ],
   "source": [
    "len(newsgroups_train.data)"
   ]
  },
  {
   "cell_type": "code",
   "execution_count": 6,
   "metadata": {},
   "outputs": [],
   "source": [
    "# Initialize a list to hold author names\n",
    "authors = []"
   ]
  },
  {
   "cell_type": "code",
   "execution_count": 7,
   "metadata": {},
   "outputs": [],
   "source": [
    "# Extract author names from the 'From:' field in the headers\n",
    "for text in newsgroups_train.data:\n",
    "    lines = text.split(\"\\n\")\n",
    "    for line in lines:\n",
    "        if line.startswith(\"From:\"):\n",
    "            authors.append(line[6:].strip())\n",
    "            break  # Stop looking for author once the first 'From:' is found"
   ]
  },
  {
   "cell_type": "code",
   "execution_count": 8,
   "metadata": {},
   "outputs": [
    {
     "data": {
      "text/plain": [
       "1728"
      ]
     },
     "execution_count": 8,
     "metadata": {},
     "output_type": "execute_result"
    }
   ],
   "source": [
    "len(authors)"
   ]
  },
  {
   "cell_type": "code",
   "execution_count": 9,
   "metadata": {},
   "outputs": [],
   "source": [
    "data = fetch_20newsgroups(subset='train', categories=categories, remove=('headers', 'footers', 'quotes'))"
   ]
  },
  {
   "cell_type": "code",
   "execution_count": 10,
   "metadata": {},
   "outputs": [],
   "source": [
    "training_df = pd.DataFrame({'data': newsgroups_train.data, 'author': authors})\n"
   ]
  },
  {
   "cell_type": "code",
   "execution_count": 11,
   "metadata": {},
   "outputs": [
    {
     "data": {
      "text/html": [
       "<div>\n",
       "<style scoped>\n",
       "    .dataframe tbody tr th:only-of-type {\n",
       "        vertical-align: middle;\n",
       "    }\n",
       "\n",
       "    .dataframe tbody tr th {\n",
       "        vertical-align: top;\n",
       "    }\n",
       "\n",
       "    .dataframe thead th {\n",
       "        text-align: right;\n",
       "    }\n",
       "</style>\n",
       "<table border=\"1\" class=\"dataframe\">\n",
       "  <thead>\n",
       "    <tr style=\"text-align: right;\">\n",
       "      <th></th>\n",
       "      <th>data</th>\n",
       "      <th>author</th>\n",
       "    </tr>\n",
       "  </thead>\n",
       "  <tbody>\n",
       "    <tr>\n",
       "      <th>0</th>\n",
       "      <td>From: erick@andr.UB.com (Eric A. Kilpatrick)\\n...</td>\n",
       "      <td>erick@andr.UB.com (Eric A. Kilpatrick)</td>\n",
       "    </tr>\n",
       "    <tr>\n",
       "      <th>1</th>\n",
       "      <td>From: tgl+@cs.cmu.edu (Tom Lane)\\nSubject: JPE...</td>\n",
       "      <td>tgl+@cs.cmu.edu (Tom Lane)</td>\n",
       "    </tr>\n",
       "    <tr>\n",
       "      <th>2</th>\n",
       "      <td>From: thomas@ramsey.cs.laurentian.ca (F. Thoma...</td>\n",
       "      <td>thomas@ramsey.cs.laurentian.ca (F. Thomas)</td>\n",
       "    </tr>\n",
       "    <tr>\n",
       "      <th>3</th>\n",
       "      <td>From: tjohnson@tazmanian.prime.com (Tod Johnso...</td>\n",
       "      <td>tjohnson@tazmanian.prime.com (Tod Johnson (617...</td>\n",
       "    </tr>\n",
       "    <tr>\n",
       "      <th>4</th>\n",
       "      <td>From: weilej@cary115.its.rpi.edu (Jason Lee We...</td>\n",
       "      <td>weilej@cary115.its.rpi.edu (Jason Lee Weiler)</td>\n",
       "    </tr>\n",
       "    <tr>\n",
       "      <th>...</th>\n",
       "      <td>...</td>\n",
       "      <td>...</td>\n",
       "    </tr>\n",
       "    <tr>\n",
       "      <th>1723</th>\n",
       "      <td>From: rjs002c@parsec.paradyne.com (Robert Syno...</td>\n",
       "      <td>rjs002c@parsec.paradyne.com (Robert Synoski)</td>\n",
       "    </tr>\n",
       "    <tr>\n",
       "      <th>1724</th>\n",
       "      <td>From: stusoft@hardy.u.washington.edu (Stuart D...</td>\n",
       "      <td>stusoft@hardy.u.washington.edu (Stuart Denman)</td>\n",
       "    </tr>\n",
       "    <tr>\n",
       "      <th>1725</th>\n",
       "      <td>From: stgprao@st.unocal.COM (Richard Ottolini)...</td>\n",
       "      <td>stgprao@st.unocal.COM (Richard Ottolini)</td>\n",
       "    </tr>\n",
       "    <tr>\n",
       "      <th>1726</th>\n",
       "      <td>From: xlyx@vax5.cit.cornell.edu\\nSubject: Shaf...</td>\n",
       "      <td>xlyx@vax5.cit.cornell.edu</td>\n",
       "    </tr>\n",
       "    <tr>\n",
       "      <th>1727</th>\n",
       "      <td>From: sigma@rahul.net (Kevin Martin)\\nSubject:...</td>\n",
       "      <td>sigma@rahul.net (Kevin Martin)</td>\n",
       "    </tr>\n",
       "  </tbody>\n",
       "</table>\n",
       "<p>1728 rows × 2 columns</p>\n",
       "</div>"
      ],
      "text/plain": [
       "                                                   data  \\\n",
       "0     From: erick@andr.UB.com (Eric A. Kilpatrick)\\n...   \n",
       "1     From: tgl+@cs.cmu.edu (Tom Lane)\\nSubject: JPE...   \n",
       "2     From: thomas@ramsey.cs.laurentian.ca (F. Thoma...   \n",
       "3     From: tjohnson@tazmanian.prime.com (Tod Johnso...   \n",
       "4     From: weilej@cary115.its.rpi.edu (Jason Lee We...   \n",
       "...                                                 ...   \n",
       "1723  From: rjs002c@parsec.paradyne.com (Robert Syno...   \n",
       "1724  From: stusoft@hardy.u.washington.edu (Stuart D...   \n",
       "1725  From: stgprao@st.unocal.COM (Richard Ottolini)...   \n",
       "1726  From: xlyx@vax5.cit.cornell.edu\\nSubject: Shaf...   \n",
       "1727  From: sigma@rahul.net (Kevin Martin)\\nSubject:...   \n",
       "\n",
       "                                                 author  \n",
       "0                erick@andr.UB.com (Eric A. Kilpatrick)  \n",
       "1                            tgl+@cs.cmu.edu (Tom Lane)  \n",
       "2            thomas@ramsey.cs.laurentian.ca (F. Thomas)  \n",
       "3     tjohnson@tazmanian.prime.com (Tod Johnson (617...  \n",
       "4         weilej@cary115.its.rpi.edu (Jason Lee Weiler)  \n",
       "...                                                 ...  \n",
       "1723       rjs002c@parsec.paradyne.com (Robert Synoski)  \n",
       "1724     stusoft@hardy.u.washington.edu (Stuart Denman)  \n",
       "1725           stgprao@st.unocal.COM (Richard Ottolini)  \n",
       "1726                          xlyx@vax5.cit.cornell.edu  \n",
       "1727                     sigma@rahul.net (Kevin Martin)  \n",
       "\n",
       "[1728 rows x 2 columns]"
      ]
     },
     "execution_count": 11,
     "metadata": {},
     "output_type": "execute_result"
    }
   ],
   "source": [
    "training_df"
   ]
  },
  {
   "cell_type": "code",
   "execution_count": 12,
   "metadata": {},
   "outputs": [
    {
     "data": {
      "text/plain": [
       "1728"
      ]
     },
     "execution_count": 12,
     "metadata": {},
     "output_type": "execute_result"
    }
   ],
   "source": [
    "len(newsgroups_train.data)"
   ]
  },
  {
   "cell_type": "code",
   "execution_count": 13,
   "metadata": {},
   "outputs": [
    {
     "data": {
      "text/plain": [
       "1728"
      ]
     },
     "execution_count": 13,
     "metadata": {},
     "output_type": "execute_result"
    }
   ],
   "source": [
    "len(authors)"
   ]
  },
  {
   "cell_type": "code",
   "execution_count": 14,
   "metadata": {},
   "outputs": [
    {
     "data": {
      "text/plain": [
       "934"
      ]
     },
     "execution_count": 14,
     "metadata": {},
     "output_type": "execute_result"
    }
   ],
   "source": [
    "len(set(authors))"
   ]
  },
  {
   "cell_type": "code",
   "execution_count": 15,
   "metadata": {},
   "outputs": [
    {
     "ename": "NameError",
     "evalue": "name 'Dictionary' is not defined",
     "output_type": "error",
     "traceback": [
      "\u001b[1;31m---------------------------------------------------------------------------\u001b[0m",
      "\u001b[1;31mNameError\u001b[0m                                 Traceback (most recent call last)",
      "\u001b[1;32md:\\university\\concordia\\research\\github\\dma-implementation\\authors-news-dataset.ipynb Cell 18\u001b[0m line \u001b[0;36m1\n\u001b[0;32m     <a href='vscode-notebook-cell:/d%3A/university/concordia/research/github/dma-implementation/authors-news-dataset.ipynb#X54sZmlsZQ%3D%3D?line=10'>11</a>\u001b[0m texts \u001b[39m=\u001b[39m [text\u001b[39m.\u001b[39mlower()\u001b[39m.\u001b[39msplit() \u001b[39mfor\u001b[39;00m text \u001b[39min\u001b[39;00m texts]  \u001b[39m# Basic tokenization, you might want to improve this\u001b[39;00m\n\u001b[0;32m     <a href='vscode-notebook-cell:/d%3A/university/concordia/research/github/dma-implementation/authors-news-dataset.ipynb#X54sZmlsZQ%3D%3D?line=12'>13</a>\u001b[0m \u001b[39m# Create dictionary and corpus\u001b[39;00m\n\u001b[1;32m---> <a href='vscode-notebook-cell:/d%3A/university/concordia/research/github/dma-implementation/authors-news-dataset.ipynb#X54sZmlsZQ%3D%3D?line=13'>14</a>\u001b[0m dictionary \u001b[39m=\u001b[39m Dictionary(texts)\n\u001b[0;32m     <a href='vscode-notebook-cell:/d%3A/university/concordia/research/github/dma-implementation/authors-news-dataset.ipynb#X54sZmlsZQ%3D%3D?line=14'>15</a>\u001b[0m corpus \u001b[39m=\u001b[39m [dictionary\u001b[39m.\u001b[39mdoc2bow(text) \u001b[39mfor\u001b[39;00m text \u001b[39min\u001b[39;00m texts]\n\u001b[0;32m     <a href='vscode-notebook-cell:/d%3A/university/concordia/research/github/dma-implementation/authors-news-dataset.ipynb#X54sZmlsZQ%3D%3D?line=16'>17</a>\u001b[0m \u001b[39m# Map authors to their respective documents\u001b[39;00m\n",
      "\u001b[1;31mNameError\u001b[0m: name 'Dictionary' is not defined"
     ]
    }
   ],
   "source": [
    "\n",
    "\n",
    "# 1. Prepare the Data\n",
    "\n",
    "# Fetch the dataset\n",
    "newsgroups = fetch_20newsgroups(subset='all', remove=('headers', 'footers', 'quotes'))\n",
    "\n",
    "# Extract content and author names (using the 'From:' field)\n",
    "texts = newsgroups.data\n",
    "authors = [text.split(\"From:\")[1].split(\"\\n\")[0].strip() if \"From:\" in text else \"Unknown\" for text in texts]\n",
    "\n",
    "# Tokenize and preprocess\n",
    "texts = [text.lower().split() for text in texts]  # Basic tokenization, you might want to improve this\n",
    "\n",
    "# Create dictionary and corpus\n",
    "dictionary = Dictionary(texts)\n",
    "corpus = [dictionary.doc2bow(text) for text in texts]\n",
    "\n",
    "# Map authors to their respective documents\n",
    "author2doc = {author: [idx for idx, auth in enumerate(authors) if auth == author] for author in set(authors)}\n",
    "\n",
    "# 2. Model Training\n",
    "model = atmodel.AuthorTopicModel(corpus=corpus, num_topics=20, id2word=dictionary, author2doc=author2doc, passes=10)\n",
    "\n",
    "# 3. Extracting Topics for Authors\n",
    "\n",
    "# For demonstration, let's extract topics for a few authors\n",
    "for author in list(author2doc.keys())[:10]:  # Adjust this to see more authors\n",
    "    author_topics = model.get_author_topics(author)\n",
    "    dominant_topic = sorted(author_topics, key=lambda x: x[1], reverse=True)[0]\n",
    "    topic_id = dominant_topic[0]\n",
    "    topic_prob = dominant_topic[1]\n",
    "    words = model.show_topic(topic_id, topn=5)\n",
    "    words = [word[0] for word in words]\n",
    "    \n",
    "    print(f\"Author: {author}\")\n",
    "    print(f\"Main Topic: {' '.join(words)} (Probability: {topic_prob:.2f})\\n\")\n"
   ]
  }
 ],
 "metadata": {
  "colab": {
   "collapsed_sections": [
    "UcOPoLTScu4V",
    "S_BBNjjzc4m5",
    "c0cAeBowGUVP"
   ],
   "provenance": []
  },
  "kernelspec": {
   "display_name": "lda-implementation",
   "language": "python",
   "name": "python3"
  },
  "language_info": {
   "codemirror_mode": {
    "name": "ipython",
    "version": 3
   },
   "file_extension": ".py",
   "mimetype": "text/x-python",
   "name": "python",
   "nbconvert_exporter": "python",
   "pygments_lexer": "ipython3",
   "version": "3.10.8"
  },
  "vscode": {
   "interpreter": {
    "hash": "1669881b8e0ee381f1d44208a6e6b4675430ed382f288976bd9acdbb8db18405"
   }
  }
 },
 "nbformat": 4,
 "nbformat_minor": 1
}
