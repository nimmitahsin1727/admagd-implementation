{
 "cells": [
  {
   "attachments": {},
   "cell_type": "markdown",
   "metadata": {},
   "source": [
    "# ADMAGD - Results"
   ]
  },
  {
   "attachments": {},
   "cell_type": "markdown",
   "metadata": {
    "id": "UcOPoLTScu4V"
   },
   "source": [
    "## Importing libraries"
   ]
  },
  {
   "cell_type": "code",
   "execution_count": 1,
   "metadata": {},
   "outputs": [],
   "source": [
    "import numpy as np\n",
    "import pandas as pd"
   ]
  },
  {
   "cell_type": "markdown",
   "metadata": {},
   "source": [
    "## Retrieve Model"
   ]
  },
  {
   "cell_type": "code",
   "execution_count": 2,
   "metadata": {},
   "outputs": [],
   "source": [
    "model_file_name = \"nips_1935_iteration_100\""
   ]
  },
  {
   "cell_type": "code",
   "execution_count": 3,
   "metadata": {},
   "outputs": [],
   "source": [
    "model_path = f\"nips/trained_ model/{model_file_name}\""
   ]
  },
  {
   "cell_type": "markdown",
   "metadata": {},
   "source": [
    "### Pickle"
   ]
  },
  {
   "cell_type": "code",
   "execution_count": 4,
   "metadata": {},
   "outputs": [],
   "source": [
    "import pickle"
   ]
  },
  {
   "cell_type": "markdown",
   "metadata": {},
   "source": [
    "Load the model from a file"
   ]
  },
  {
   "cell_type": "code",
   "execution_count": 5,
   "metadata": {},
   "outputs": [],
   "source": [
    "with open(f\"{model_path}.pkl\", 'rb') as f:\n",
    "    loaded_model = pickle.load(f)"
   ]
  },
  {
   "cell_type": "markdown",
   "metadata": {},
   "source": [
    "### joblib"
   ]
  },
  {
   "cell_type": "code",
   "execution_count": 6,
   "metadata": {},
   "outputs": [],
   "source": [
    "# from joblib import load"
   ]
  },
  {
   "cell_type": "markdown",
   "metadata": {},
   "source": [
    "Load the model from a file"
   ]
  },
  {
   "cell_type": "code",
   "execution_count": 7,
   "metadata": {},
   "outputs": [],
   "source": [
    "# loaded_model_joblib = load(f\"{model_path}.joblib\")"
   ]
  },
  {
   "cell_type": "markdown",
   "metadata": {},
   "source": [
    "## Results"
   ]
  },
  {
   "cell_type": "code",
   "execution_count": 8,
   "metadata": {},
   "outputs": [],
   "source": [
    "# def print_topic_word_distribution(model):\n",
    "#     phi = model.calculate_phi_update()  # This gives you the word-topic matrix\n",
    "\n",
    "#     for topic_idx in range(model.num_topics):\n",
    "#         print(f\"Topic #{topic_idx+1}:\\n\")\n",
    "        \n",
    "#         for word_id in range(model.vocab_size):\n",
    "#             word_probability = phi[topic_idx, word_id]\n",
    "#             word = model.id2word[word_id]\n",
    "#             print(f\"{word}: {word_probability:.4f}\")\n",
    "        \n",
    "#         print(\"\\n\\n\")  # Print a newline to separate topics\n",
    "\n",
    "# print_topic_word_distribution(loaded_model)\n"
   ]
  },
  {
   "cell_type": "code",
   "execution_count": 9,
   "metadata": {},
   "outputs": [
    {
     "name": "stdout",
     "output_type": "stream",
     "text": [
      "<< Topic # 1 >>\n",
      "dynamic: 0.0031\n",
      "temporal: 0.0029\n",
      "nature: 0.0027\n",
      "neuroscience: 0.0027\n",
      "region: 0.0027\n",
      "brain: 0.0026\n",
      "fig: 0.0026\n",
      "signal: 0.0026\n",
      "trajectory: 0.0026\n",
      "activity: 0.0025\n",
      "\n",
      "\n",
      "<< Topic # 2 >>\n",
      "noise: 0.0033\n",
      "recover: 0.0031\n",
      "dimensional: 0.0030\n",
      "iid: 0.0025\n",
      "entry: 0.0025\n",
      "highdimensional: 0.0025\n",
      "row: 0.0025\n",
      "noisy: 0.0025\n",
      "furthermore: 0.0024\n",
      "signal: 0.0024\n",
      "\n",
      "\n",
      "<< Topic # 3 >>\n",
      "classification: 0.0029\n",
      "produce: 0.0029\n",
      "discuss: 0.0028\n",
      "gain: 0.0027\n",
      "evaluation: 0.0027\n",
      "bias: 0.0027\n",
      "easily: 0.0026\n",
      "final: 0.0026\n",
      "bad: 0.0025\n",
      "issue: 0.0025\n",
      "\n",
      "\n",
      "<< Topic # 4 >>\n",
      "efficiently: 0.0036\n",
      "easy: 0.0035\n",
      "analyze: 0.0032\n",
      "lemma: 0.0032\n",
      "acm: 0.0031\n",
      "transaction: 0.0031\n",
      "program: 0.0031\n",
      "outperform: 0.0031\n",
      "nsf: 0.0030\n",
      "cluster: 0.0030\n",
      "\n",
      "\n",
      "<< Topic # 5 >>\n",
      "recognition: 0.0048\n",
      "vision: 0.0047\n",
      "image: 0.0042\n",
      "cvpr: 0.0042\n",
      "object: 0.0038\n",
      "visual: 0.0037\n",
      "convolutional: 0.0032\n",
      "pixel: 0.0031\n",
      "extract: 0.0029\n",
      "classification: 0.0028\n",
      "\n",
      "\n",
      "<< Topic # 6 >>\n",
      "norm: 0.0047\n",
      "convex: 0.0045\n",
      "descent: 0.0040\n",
      "minimization: 0.0035\n",
      "regularization: 0.0034\n",
      "operator: 0.0032\n",
      "regularize: 0.0031\n",
      "continuous: 0.0030\n",
      "converges: 0.0030\n",
      "write: 0.0029\n",
      "\n",
      "\n",
      "<< Topic # 7 >>\n",
      "intelligence: 0.0032\n",
      "determine: 0.0030\n",
      "node: 0.0028\n",
      "graph: 0.0027\n",
      "tree: 0.0025\n",
      "search: 0.0025\n",
      "share: 0.0025\n",
      "artificial: 0.0024\n",
      "associate: 0.0024\n",
      "probabilistic: 0.0024\n",
      "\n",
      "\n",
      "<< Topic # 8 >>\n",
      "bengio: 0.0052\n",
      "deep: 0.0049\n",
      "architecture: 0.0047\n",
      "layer: 0.0045\n",
      "preprint: 0.0042\n",
      "hinton: 0.0040\n",
      "hidden: 0.0034\n",
      "unit: 0.0033\n",
      "kingma: 0.0033\n",
      "recurrent: 0.0033\n",
      "\n",
      "\n",
      "<< Topic # 9 >>\n",
      "lemma: 0.0034\n",
      "upper: 0.0033\n",
      "say: 0.0030\n",
      "expectation: 0.0030\n",
      "arbitrary: 0.0029\n",
      "satisfies: 0.0028\n",
      "question: 0.0028\n",
      "appendix: 0.0027\n",
      "suppose: 0.0027\n",
      "online: 0.0027\n",
      "\n",
      "\n",
      "<< Topic # 10 >>\n",
      "likelihood: 0.0057\n",
      "inference: 0.0051\n",
      "bayesian: 0.0051\n",
      "posterior: 0.0047\n",
      "marginal: 0.0040\n",
      "latent: 0.0039\n",
      "markov: 0.0039\n",
      "density: 0.0038\n",
      "variational: 0.0036\n",
      "family: 0.0035\n",
      "\n",
      "\n"
     ]
    }
   ],
   "source": [
    "def print_top_words_per_topic(model, top_n=10):\n",
    "    phi = model.calculate_phi_update()  # This gives you the word-topic matrix\n",
    "\n",
    "    for topic_idx in range(model.num_topics):\n",
    "        print(f\"<< Topic # {topic_idx+1} >>\")\n",
    "\n",
    "        # Get the top N word indices for the topic sorted by probability\n",
    "        top_word_indices = phi[topic_idx].argsort()[-top_n:][::-1]\n",
    "        \n",
    "        for word_id in top_word_indices:\n",
    "            word_probability = phi[topic_idx, word_id]\n",
    "            word = model.id2word[word_id]\n",
    "            print(f\"{word}: {word_probability:.4f}\")\n",
    "\n",
    "        print(\"\\n\")  # Print a newline to separate topics\n",
    "\n",
    "# After running your model...\n",
    "print_top_words_per_topic(loaded_model, )\n"
   ]
  },
  {
   "cell_type": "markdown",
   "metadata": {},
   "source": [
    "### Extract word for each topic"
   ]
  },
  {
   "cell_type": "code",
   "execution_count": 10,
   "metadata": {},
   "outputs": [],
   "source": [
    "# After you've run Gibbs sampling\n",
    "word_topic_matrix = loaded_model.word_topic_matrix\n",
    "word_topic_sum = word_topic_matrix.sum(axis=1)[:, np.newaxis]\n",
    "word_topic_dist = word_topic_matrix / word_topic_sum"
   ]
  },
  {
   "cell_type": "code",
   "execution_count": 18,
   "metadata": {},
   "outputs": [],
   "source": [
    "# Visualize the top N words for each topic\n",
    "N_TOP_WORDS = 50\n",
    "\n",
    "ALL_TOPIC_WORDS = []\n",
    "for i in range(loaded_model.num_topics):\n",
    "    top_words_idx = word_topic_dist[i].argsort()[-N_TOP_WORDS:][::-1]\n",
    "    top_words = [loaded_model.id2word[idx] for idx in top_words_idx]\n",
    "\n",
    "    ALL_TOPIC_WORDS.append(top_words)\n",
    "\n",
    "    # print(f\"Topic {i + 1}: {', '.join(top_words)} \\n\")"
   ]
  },
  {
   "cell_type": "code",
   "execution_count": 12,
   "metadata": {},
   "outputs": [],
   "source": [
    "word_dic = {}\n",
    "\n",
    "for topic_words in ALL_TOPIC_WORDS:\n",
    "  for word in topic_words:\n",
    "    if word in word_dic:\n",
    "      word_dic[word] = word_dic[word] + 1\n",
    "    else:\n",
    "      word_dic[word] = 1"
   ]
  },
  {
   "cell_type": "code",
   "execution_count": 17,
   "metadata": {},
   "outputs": [],
   "source": [
    "# word_dic"
   ]
  },
  {
   "cell_type": "markdown",
   "metadata": {},
   "source": [
    "### Visualize the author-topic distribution"
   ]
  },
  {
   "cell_type": "code",
   "execution_count": 14,
   "metadata": {},
   "outputs": [],
   "source": [
    "# Normalize the author_topic_matrix to get author-topic distribution\n",
    "\n",
    "# Compute the sum of rows in author_topic_matrix\n",
    "author_topic_sum = loaded_model.author_topic_matrix.sum(axis=1)[:, np.newaxis]\n",
    "\n",
    "# Replace zero sums with a small epsilon value\n",
    "epsilon = 1e-10\n",
    "author_topic_sum[author_topic_sum == 0] = epsilon\n",
    "\n",
    "# Perform element-wise division\n",
    "author_topic_dist = loaded_model.author_topic_matrix / author_topic_sum\n",
    "\n",
    "# Visualize the top N topics for each author\n",
    "N_TOP_TOPICS = 3\n",
    "top_topics_list = []\n",
    "for i, author in enumerate(loaded_model.authors):\n",
    "    top_topics_idx = author_topic_dist[i].argsort()[-N_TOP_TOPICS:][::-1]\n",
    "    top_topics_list.append(top_topics_idx)\n",
    "    # print(f\"Author {i+1} => {author} : Topic IDs {top_topics_idx} \\n\")"
   ]
  },
  {
   "cell_type": "code",
   "execution_count": 15,
   "metadata": {},
   "outputs": [
    {
     "data": {
      "text/html": [
       "<div>\n",
       "<style scoped>\n",
       "    .dataframe tbody tr th:only-of-type {\n",
       "        vertical-align: middle;\n",
       "    }\n",
       "\n",
       "    .dataframe tbody tr th {\n",
       "        vertical-align: top;\n",
       "    }\n",
       "\n",
       "    .dataframe thead th {\n",
       "        text-align: right;\n",
       "    }\n",
       "</style>\n",
       "<table border=\"1\" class=\"dataframe\">\n",
       "  <thead>\n",
       "    <tr style=\"text-align: right;\">\n",
       "      <th></th>\n",
       "      <th>authors</th>\n",
       "      <th>topics</th>\n",
       "    </tr>\n",
       "  </thead>\n",
       "  <tbody>\n",
       "    <tr>\n",
       "      <th>0</th>\n",
       "      <td>Sebastian Stober</td>\n",
       "      <td>[0, 7, 6]</td>\n",
       "    </tr>\n",
       "    <tr>\n",
       "      <th>1</th>\n",
       "      <td>Daniel J. Cameron</td>\n",
       "      <td>[9, 8, 7]</td>\n",
       "    </tr>\n",
       "    <tr>\n",
       "      <th>2</th>\n",
       "      <td>Jessica A. Grahn</td>\n",
       "      <td>[9, 8, 7]</td>\n",
       "    </tr>\n",
       "    <tr>\n",
       "      <th>3</th>\n",
       "      <td>Aurel A. Lazar</td>\n",
       "      <td>[0, 1, 6]</td>\n",
       "    </tr>\n",
       "    <tr>\n",
       "      <th>4</th>\n",
       "      <td>Yevgeniy Slutskiy</td>\n",
       "      <td>[9, 8, 7]</td>\n",
       "    </tr>\n",
       "    <tr>\n",
       "      <th>5</th>\n",
       "      <td>Chen-Yu Wei</td>\n",
       "      <td>[8, 2, 6]</td>\n",
       "    </tr>\n",
       "    <tr>\n",
       "      <th>6</th>\n",
       "      <td>Yi-Te Hong</td>\n",
       "      <td>[9, 8, 7]</td>\n",
       "    </tr>\n",
       "    <tr>\n",
       "      <th>7</th>\n",
       "      <td>Chi-Jen Lu</td>\n",
       "      <td>[9, 8, 7]</td>\n",
       "    </tr>\n",
       "    <tr>\n",
       "      <th>8</th>\n",
       "      <td>Katherine A. Heller</td>\n",
       "      <td>[9, 5, 7]</td>\n",
       "    </tr>\n",
       "    <tr>\n",
       "      <th>9</th>\n",
       "      <td>David B. Dunson</td>\n",
       "      <td>[1, 9, 5]</td>\n",
       "    </tr>\n",
       "  </tbody>\n",
       "</table>\n",
       "</div>"
      ],
      "text/plain": [
       "               authors     topics\n",
       "0     Sebastian Stober  [0, 7, 6]\n",
       "1    Daniel J. Cameron  [9, 8, 7]\n",
       "2     Jessica A. Grahn  [9, 8, 7]\n",
       "3       Aurel A. Lazar  [0, 1, 6]\n",
       "4    Yevgeniy Slutskiy  [9, 8, 7]\n",
       "5          Chen-Yu Wei  [8, 2, 6]\n",
       "6           Yi-Te Hong  [9, 8, 7]\n",
       "7           Chi-Jen Lu  [9, 8, 7]\n",
       "8  Katherine A. Heller  [9, 5, 7]\n",
       "9      David B. Dunson  [1, 9, 5]"
      ]
     },
     "execution_count": 15,
     "metadata": {},
     "output_type": "execute_result"
    }
   ],
   "source": [
    "top_topics_of_authors_df = pd.DataFrame({'authors': loaded_model.authors, 'topics': top_topics_list})\n",
    "top_topics_of_authors_df.head(10)"
   ]
  },
  {
   "cell_type": "code",
   "execution_count": 16,
   "metadata": {},
   "outputs": [
    {
     "data": {
      "text/html": [
       "<div>\n",
       "<style scoped>\n",
       "    .dataframe tbody tr th:only-of-type {\n",
       "        vertical-align: middle;\n",
       "    }\n",
       "\n",
       "    .dataframe tbody tr th {\n",
       "        vertical-align: top;\n",
       "    }\n",
       "\n",
       "    .dataframe thead th {\n",
       "        text-align: right;\n",
       "    }\n",
       "</style>\n",
       "<table border=\"1\" class=\"dataframe\">\n",
       "  <thead>\n",
       "    <tr style=\"text-align: right;\">\n",
       "      <th></th>\n",
       "      <th>authors</th>\n",
       "      <th>topics</th>\n",
       "    </tr>\n",
       "  </thead>\n",
       "  <tbody>\n",
       "    <tr>\n",
       "      <th>655</th>\n",
       "      <td>Hongyuan Zha</td>\n",
       "      <td>[9, 6, 0]</td>\n",
       "    </tr>\n",
       "  </tbody>\n",
       "</table>\n",
       "</div>"
      ],
      "text/plain": [
       "          authors     topics\n",
       "655  Hongyuan Zha  [9, 6, 0]"
      ]
     },
     "execution_count": 16,
     "metadata": {},
     "output_type": "execute_result"
    }
   ],
   "source": [
    "top_topics_of_authors_df[top_topics_of_authors_df['authors'] == 'Hongyuan Zha']\n"
   ]
  },
  {
   "cell_type": "code",
   "execution_count": 1,
   "metadata": {},
   "outputs": [
    {
     "data": {
      "image/png": "[encoded data removed]",
      "text/plain": [
       "<Figure size 640x480 with 1 Axes>"
      ]
     },
     "metadata": {},
     "output_type": "display_data"
    }
   ],
   "source": [
    "import matplotlib.pyplot as plt\n",
    "import networkx as nx\n",
    "\n",
    "def draw_graph():\n",
    "    G = nx.DiGraph()\n",
    "\n",
    "    # Adding nodes\n",
    "    G.add_node(\"alpha\", label=r\"$\\alpha$\")\n",
    "    G.add_node(\"beta\", label=r\"$\\beta$\")\n",
    "    G.add_node(\"theta_a\", label=r\"$\\theta_a$\")\n",
    "    G.add_node(\"z_d\", label=r\"$z_d$\")\n",
    "    G.add_node(\"phi_k\", label=r\"$\\phi_k$\")\n",
    "    G.add_node(\"w\", label=\"w\")\n",
    "    G.add_node(\"a_b\", label=r\"$(a, b)$\")\n",
    "\n",
    "    # Adding edges\n",
    "    G.add_edge(\"alpha\", \"theta_a\")\n",
    "    G.add_edge(\"beta\", \"theta_a\")\n",
    "    G.add_edge(\"theta_a\", \"z_d\")\n",
    "    G.add_edge(\"a_b\", \"phi_k\")\n",
    "    G.add_edge(\"phi_k\", \"w\")\n",
    "    G.add_edge(\"z_d\", \"w\")\n",
    "\n",
    "    # Positioning nodes\n",
    "    pos = {\n",
    "        \"alpha\": (0.2, 0.8), \"beta\": (0.8, 0.8),\n",
    "        \"theta_a\": (0.5, 0.6),\n",
    "        \"z_d\": (0.5, 0.4),\n",
    "        \"phi_k\": (0.5, 0.2),\n",
    "        \"w\": (0.5, 0.1),\n",
    "        \"a_b\": (0.5, 0.3)\n",
    "    }\n",
    "\n",
    "    # Drawing\n",
    "    nx.draw(G, pos, with_labels=True, labels=nx.get_node_attributes(G, 'label'))\n",
    "    plt.show()\n",
    "\n",
    "draw_graph()\n"
   ]
  },
  {
   "cell_type": "code",
   "execution_count": 7,
   "metadata": {},
   "outputs": [
    {
     "ename": "StopIteration",
     "evalue": "",
     "output_type": "error",
     "traceback": [
      "\u001b[1;31m---------------------------------------------------------------------------\u001b[0m",
      "\u001b[1;31mStopIteration\u001b[0m                             Traceback (most recent call last)",
      "Cell \u001b[1;32mIn[7], line 7\u001b[0m\n\u001b[0;32m      4\u001b[0m \u001b[38;5;28;01mimport\u001b[39;00m \u001b[38;5;21;01mmatplotlib\u001b[39;00m\u001b[38;5;21;01m.\u001b[39;00m\u001b[38;5;21;01mpyplot\u001b[39;00m \u001b[38;5;28;01mas\u001b[39;00m \u001b[38;5;21;01mplt\u001b[39;00m\n\u001b[0;32m      6\u001b[0m model \u001b[38;5;241m=\u001b[39m BayesianNetwork([(\u001b[38;5;124m'\u001b[39m\u001b[38;5;124malpha\u001b[39m\u001b[38;5;124m'\u001b[39m, \u001b[38;5;124m'\u001b[39m\u001b[38;5;124mtheta_a\u001b[39m\u001b[38;5;124m'\u001b[39m), (\u001b[38;5;124m'\u001b[39m\u001b[38;5;124mbeta\u001b[39m\u001b[38;5;124m'\u001b[39m, \u001b[38;5;124m'\u001b[39m\u001b[38;5;124mtheta_a\u001b[39m\u001b[38;5;124m'\u001b[39m), (\u001b[38;5;124m'\u001b[39m\u001b[38;5;124mtheta_a\u001b[39m\u001b[38;5;124m'\u001b[39m, \u001b[38;5;124m'\u001b[39m\u001b[38;5;124mz_d\u001b[39m\u001b[38;5;124m'\u001b[39m), (\u001b[38;5;124m'\u001b[39m\u001b[38;5;124ma_b\u001b[39m\u001b[38;5;124m'\u001b[39m, \u001b[38;5;124m'\u001b[39m\u001b[38;5;124mphi_k\u001b[39m\u001b[38;5;124m'\u001b[39m), (\u001b[38;5;124m'\u001b[39m\u001b[38;5;124mphi_k\u001b[39m\u001b[38;5;124m'\u001b[39m, \u001b[38;5;124m'\u001b[39m\u001b[38;5;124mw\u001b[39m\u001b[38;5;124m'\u001b[39m), (\u001b[38;5;124m'\u001b[39m\u001b[38;5;124mz_d\u001b[39m\u001b[38;5;124m'\u001b[39m, \u001b[38;5;124m'\u001b[39m\u001b[38;5;124mw\u001b[39m\u001b[38;5;124m'\u001b[39m)])\n\u001b[1;32m----> 7\u001b[0m \u001b[43mnx\u001b[49m\u001b[38;5;241;43m.\u001b[39;49m\u001b[43mdraw\u001b[49m\u001b[43m(\u001b[49m\u001b[43mmodel\u001b[49m\u001b[43m,\u001b[49m\u001b[43m \u001b[49m\u001b[43mwith_labels\u001b[49m\u001b[38;5;241;43m=\u001b[39;49m\u001b[38;5;28;43;01mTrue\u001b[39;49;00m\u001b[43m)\u001b[49m\n\u001b[0;32m      8\u001b[0m plt\u001b[38;5;241m.\u001b[39mshow()\n",
      "File \u001b[1;32mc:\\Users\\Alam\\miniconda3\\envs\\lda-implementation\\lib\\site-packages\\networkx\\drawing\\nx_pylab.py:121\u001b[0m, in \u001b[0;36mdraw\u001b[1;34m(G, pos, ax, **kwds)\u001b[0m\n\u001b[0;32m    118\u001b[0m \u001b[38;5;28;01mif\u001b[39;00m \u001b[38;5;124m\"\u001b[39m\u001b[38;5;124mwith_labels\u001b[39m\u001b[38;5;124m\"\u001b[39m \u001b[38;5;129;01mnot\u001b[39;00m \u001b[38;5;129;01min\u001b[39;00m kwds:\n\u001b[0;32m    119\u001b[0m     kwds[\u001b[38;5;124m\"\u001b[39m\u001b[38;5;124mwith_labels\u001b[39m\u001b[38;5;124m\"\u001b[39m] \u001b[38;5;241m=\u001b[39m \u001b[38;5;124m\"\u001b[39m\u001b[38;5;124mlabels\u001b[39m\u001b[38;5;124m\"\u001b[39m \u001b[38;5;129;01min\u001b[39;00m kwds\n\u001b[1;32m--> 121\u001b[0m draw_networkx(G, pos\u001b[38;5;241m=\u001b[39mpos, ax\u001b[38;5;241m=\u001b[39max, \u001b[38;5;241m*\u001b[39m\u001b[38;5;241m*\u001b[39mkwds)\n\u001b[0;32m    122\u001b[0m ax\u001b[38;5;241m.\u001b[39mset_axis_off()\n\u001b[0;32m    123\u001b[0m plt\u001b[38;5;241m.\u001b[39mdraw_if_interactive()\n",
      "File \u001b[1;32mc:\\Users\\Alam\\miniconda3\\envs\\lda-implementation\\lib\\site-packages\\networkx\\drawing\\nx_pylab.py:304\u001b[0m, in \u001b[0;36mdraw_networkx\u001b[1;34m(G, pos, arrows, with_labels, **kwds)\u001b[0m\n\u001b[0;32m    301\u001b[0m     pos \u001b[38;5;241m=\u001b[39m nx\u001b[38;5;241m.\u001b[39mdrawing\u001b[38;5;241m.\u001b[39mspring_layout(G)  \u001b[38;5;66;03m# default to spring layout\u001b[39;00m\n\u001b[0;32m    303\u001b[0m draw_networkx_nodes(G, pos, \u001b[38;5;241m*\u001b[39m\u001b[38;5;241m*\u001b[39mnode_kwds)\n\u001b[1;32m--> 304\u001b[0m draw_networkx_edges(G, pos, arrows\u001b[38;5;241m=\u001b[39marrows, \u001b[38;5;241m*\u001b[39m\u001b[38;5;241m*\u001b[39medge_kwds)\n\u001b[0;32m    305\u001b[0m \u001b[38;5;28;01mif\u001b[39;00m with_labels:\n\u001b[0;32m    306\u001b[0m     draw_networkx_labels(G, pos, \u001b[38;5;241m*\u001b[39m\u001b[38;5;241m*\u001b[39mlabel_kwds)\n",
      "File \u001b[1;32mc:\\Users\\Alam\\miniconda3\\envs\\lda-implementation\\lib\\site-packages\\networkx\\drawing\\nx_pylab.py:908\u001b[0m, in \u001b[0;36mdraw_networkx_edges\u001b[1;34m(G, pos, edgelist, width, edge_color, style, alpha, arrowstyle, arrowsize, edge_cmap, edge_vmin, edge_vmax, ax, arrows, label, node_size, nodelist, node_shape, connectionstyle, min_source_margin, min_target_margin)\u001b[0m\n\u001b[0;32m    906\u001b[0m \u001b[38;5;28;01melse\u001b[39;00m:\n\u001b[0;32m    907\u001b[0m     fancy_edges_indices \u001b[38;5;241m=\u001b[39m \u001b[38;5;28mrange\u001b[39m(\u001b[38;5;28mlen\u001b[39m(edgelist))\n\u001b[1;32m--> 908\u001b[0m     edge_viz_obj \u001b[38;5;241m=\u001b[39m \u001b[43m_draw_networkx_edges_fancy_arrow_patch\u001b[49m\u001b[43m(\u001b[49m\u001b[43m)\u001b[49m\n\u001b[0;32m    910\u001b[0m \u001b[38;5;66;03m# update view after drawing\u001b[39;00m\n\u001b[0;32m    911\u001b[0m padx, pady \u001b[38;5;241m=\u001b[39m \u001b[38;5;241m0.05\u001b[39m \u001b[38;5;241m*\u001b[39m w, \u001b[38;5;241m0.05\u001b[39m \u001b[38;5;241m*\u001b[39m h\n",
      "File \u001b[1;32mc:\\Users\\Alam\\miniconda3\\envs\\lda-implementation\\lib\\site-packages\\networkx\\drawing\\nx_pylab.py:882\u001b[0m, in \u001b[0;36mdraw_networkx_edges.<locals>._draw_networkx_edges_fancy_arrow_patch\u001b[1;34m()\u001b[0m\n\u001b[0;32m    867\u001b[0m     arrow \u001b[38;5;241m=\u001b[39m mpl\u001b[38;5;241m.\u001b[39mpatches\u001b[38;5;241m.\u001b[39mFancyArrowPatch(\n\u001b[0;32m    868\u001b[0m         (x1, y1),\n\u001b[0;32m    869\u001b[0m         (x2, y2),\n\u001b[1;32m   (...)\u001b[0m\n\u001b[0;32m    878\u001b[0m         zorder\u001b[38;5;241m=\u001b[39m\u001b[38;5;241m1\u001b[39m,\n\u001b[0;32m    879\u001b[0m     )  \u001b[38;5;66;03m# arrows go behind nodes\u001b[39;00m\n\u001b[0;32m    881\u001b[0m     arrow_collection\u001b[38;5;241m.\u001b[39mappend(arrow)\n\u001b[1;32m--> 882\u001b[0m     \u001b[43max\u001b[49m\u001b[38;5;241;43m.\u001b[39;49m\u001b[43madd_patch\u001b[49m\u001b[43m(\u001b[49m\u001b[43marrow\u001b[49m\u001b[43m)\u001b[49m\n\u001b[0;32m    884\u001b[0m \u001b[38;5;28;01mreturn\u001b[39;00m arrow_collection\n",
      "File \u001b[1;32mc:\\Users\\Alam\\miniconda3\\envs\\lda-implementation\\lib\\site-packages\\matplotlib\\axes\\_base.py:2384\u001b[0m, in \u001b[0;36m_AxesBase.add_patch\u001b[1;34m(self, p)\u001b[0m\n\u001b[0;32m   2382\u001b[0m \u001b[38;5;28;01mif\u001b[39;00m p\u001b[38;5;241m.\u001b[39mget_clip_path() \u001b[38;5;129;01mis\u001b[39;00m \u001b[38;5;28;01mNone\u001b[39;00m:\n\u001b[0;32m   2383\u001b[0m     p\u001b[38;5;241m.\u001b[39mset_clip_path(\u001b[38;5;28mself\u001b[39m\u001b[38;5;241m.\u001b[39mpatch)\n\u001b[1;32m-> 2384\u001b[0m \u001b[38;5;28;43mself\u001b[39;49m\u001b[38;5;241;43m.\u001b[39;49m\u001b[43m_update_patch_limits\u001b[49m\u001b[43m(\u001b[49m\u001b[43mp\u001b[49m\u001b[43m)\u001b[49m\n\u001b[0;32m   2385\u001b[0m \u001b[38;5;28mself\u001b[39m\u001b[38;5;241m.\u001b[39m_children\u001b[38;5;241m.\u001b[39mappend(p)\n\u001b[0;32m   2386\u001b[0m p\u001b[38;5;241m.\u001b[39m_remove_method \u001b[38;5;241m=\u001b[39m \u001b[38;5;28mself\u001b[39m\u001b[38;5;241m.\u001b[39m_children\u001b[38;5;241m.\u001b[39mremove\n",
      "File \u001b[1;32mc:\\Users\\Alam\\miniconda3\\envs\\lda-implementation\\lib\\site-packages\\matplotlib\\axes\\_base.py:2402\u001b[0m, in \u001b[0;36m_AxesBase._update_patch_limits\u001b[1;34m(self, patch)\u001b[0m\n\u001b[0;32m   2399\u001b[0m \u001b[38;5;28;01mif\u001b[39;00m (\u001b[38;5;28misinstance\u001b[39m(patch, mpatches\u001b[38;5;241m.\u001b[39mRectangle) \u001b[38;5;129;01mand\u001b[39;00m\n\u001b[0;32m   2400\u001b[0m         ((\u001b[38;5;129;01mnot\u001b[39;00m patch\u001b[38;5;241m.\u001b[39mget_width()) \u001b[38;5;129;01mand\u001b[39;00m (\u001b[38;5;129;01mnot\u001b[39;00m patch\u001b[38;5;241m.\u001b[39mget_height()))):\n\u001b[0;32m   2401\u001b[0m     \u001b[38;5;28;01mreturn\u001b[39;00m\n\u001b[1;32m-> 2402\u001b[0m p \u001b[38;5;241m=\u001b[39m \u001b[43mpatch\u001b[49m\u001b[38;5;241;43m.\u001b[39;49m\u001b[43mget_path\u001b[49m\u001b[43m(\u001b[49m\u001b[43m)\u001b[49m\n\u001b[0;32m   2403\u001b[0m \u001b[38;5;66;03m# Get all vertices on the path\u001b[39;00m\n\u001b[0;32m   2404\u001b[0m \u001b[38;5;66;03m# Loop through each segment to get extrema for Bezier curve sections\u001b[39;00m\n\u001b[0;32m   2405\u001b[0m vertices \u001b[38;5;241m=\u001b[39m []\n",
      "File \u001b[1;32mc:\\Users\\Alam\\miniconda3\\envs\\lda-implementation\\lib\\site-packages\\matplotlib\\patches.py:4342\u001b[0m, in \u001b[0;36mFancyArrowPatch.get_path\u001b[1;34m(self)\u001b[0m\n\u001b[0;32m   4339\u001b[0m \u001b[38;5;250m\u001b[39m\u001b[38;5;124;03m\"\"\"Return the path of the arrow in the data coordinates.\"\"\"\u001b[39;00m\n\u001b[0;32m   4340\u001b[0m \u001b[38;5;66;03m# The path is generated in display coordinates, then converted back to\u001b[39;00m\n\u001b[0;32m   4341\u001b[0m \u001b[38;5;66;03m# data coordinates.\u001b[39;00m\n\u001b[1;32m-> 4342\u001b[0m _path, fillable \u001b[38;5;241m=\u001b[39m \u001b[38;5;28;43mself\u001b[39;49m\u001b[38;5;241;43m.\u001b[39;49m\u001b[43m_get_path_in_displaycoord\u001b[49m\u001b[43m(\u001b[49m\u001b[43m)\u001b[49m\n\u001b[0;32m   4343\u001b[0m \u001b[38;5;28;01mif\u001b[39;00m np\u001b[38;5;241m.\u001b[39miterable(fillable):\n\u001b[0;32m   4344\u001b[0m     _path \u001b[38;5;241m=\u001b[39m Path\u001b[38;5;241m.\u001b[39mmake_compound_path(\u001b[38;5;241m*\u001b[39m_path)\n",
      "File \u001b[1;32mc:\\Users\\Alam\\miniconda3\\envs\\lda-implementation\\lib\\site-packages\\matplotlib\\patches.py:4355\u001b[0m, in \u001b[0;36mFancyArrowPatch._get_path_in_displaycoord\u001b[1;34m(self)\u001b[0m\n\u001b[0;32m   4353\u001b[0m     posB \u001b[38;5;241m=\u001b[39m \u001b[38;5;28mself\u001b[39m\u001b[38;5;241m.\u001b[39m_convert_xy_units(\u001b[38;5;28mself\u001b[39m\u001b[38;5;241m.\u001b[39m_posA_posB[\u001b[38;5;241m1\u001b[39m])\n\u001b[0;32m   4354\u001b[0m     (posA, posB) \u001b[38;5;241m=\u001b[39m \u001b[38;5;28mself\u001b[39m\u001b[38;5;241m.\u001b[39mget_transform()\u001b[38;5;241m.\u001b[39mtransform((posA, posB))\n\u001b[1;32m-> 4355\u001b[0m     _path \u001b[38;5;241m=\u001b[39m \u001b[38;5;28;43mself\u001b[39;49m\u001b[38;5;241;43m.\u001b[39;49m\u001b[43mget_connectionstyle\u001b[49m\u001b[43m(\u001b[49m\u001b[43m)\u001b[49m\u001b[43m(\u001b[49m\u001b[43mposA\u001b[49m\u001b[43m,\u001b[49m\u001b[43m \u001b[49m\u001b[43mposB\u001b[49m\u001b[43m,\u001b[49m\n\u001b[0;32m   4356\u001b[0m \u001b[43m                                       \u001b[49m\u001b[43mpatchA\u001b[49m\u001b[38;5;241;43m=\u001b[39;49m\u001b[38;5;28;43mself\u001b[39;49m\u001b[38;5;241;43m.\u001b[39;49m\u001b[43mpatchA\u001b[49m\u001b[43m,\u001b[49m\n\u001b[0;32m   4357\u001b[0m \u001b[43m                                       \u001b[49m\u001b[43mpatchB\u001b[49m\u001b[38;5;241;43m=\u001b[39;49m\u001b[38;5;28;43mself\u001b[39;49m\u001b[38;5;241;43m.\u001b[39;49m\u001b[43mpatchB\u001b[49m\u001b[43m,\u001b[49m\n\u001b[0;32m   4358\u001b[0m \u001b[43m                                       \u001b[49m\u001b[43mshrinkA\u001b[49m\u001b[38;5;241;43m=\u001b[39;49m\u001b[38;5;28;43mself\u001b[39;49m\u001b[38;5;241;43m.\u001b[39;49m\u001b[43mshrinkA\u001b[49m\u001b[43m \u001b[49m\u001b[38;5;241;43m*\u001b[39;49m\u001b[43m \u001b[49m\u001b[43mdpi_cor\u001b[49m\u001b[43m,\u001b[49m\n\u001b[0;32m   4359\u001b[0m \u001b[43m                                       \u001b[49m\u001b[43mshrinkB\u001b[49m\u001b[38;5;241;43m=\u001b[39;49m\u001b[38;5;28;43mself\u001b[39;49m\u001b[38;5;241;43m.\u001b[39;49m\u001b[43mshrinkB\u001b[49m\u001b[43m \u001b[49m\u001b[38;5;241;43m*\u001b[39;49m\u001b[43m \u001b[49m\u001b[43mdpi_cor\u001b[49m\n\u001b[0;32m   4360\u001b[0m \u001b[43m                                       \u001b[49m\u001b[43m)\u001b[49m\n\u001b[0;32m   4361\u001b[0m \u001b[38;5;28;01melse\u001b[39;00m:\n\u001b[0;32m   4362\u001b[0m     _path \u001b[38;5;241m=\u001b[39m \u001b[38;5;28mself\u001b[39m\u001b[38;5;241m.\u001b[39mget_transform()\u001b[38;5;241m.\u001b[39mtransform_path(\u001b[38;5;28mself\u001b[39m\u001b[38;5;241m.\u001b[39m_path_original)\n",
      "File \u001b[1;32mc:\\Users\\Alam\\miniconda3\\envs\\lda-implementation\\lib\\site-packages\\networkx\\drawing\\nx_pylab.py:809\u001b[0m, in \u001b[0;36mdraw_networkx_edges.<locals>._draw_networkx_edges_fancy_arrow_patch.<locals>._connectionstyle\u001b[1;34m(posA, posB, *args, **kwargs)\u001b[0m\n\u001b[0;32m    806\u001b[0m     ret \u001b[38;5;241m=\u001b[39m mpl\u001b[38;5;241m.\u001b[39mpath\u001b[38;5;241m.\u001b[39mPath(ax\u001b[38;5;241m.\u001b[39mtransData\u001b[38;5;241m.\u001b[39mtransform(path), [\u001b[38;5;241m1\u001b[39m, \u001b[38;5;241m4\u001b[39m, \u001b[38;5;241m4\u001b[39m, \u001b[38;5;241m4\u001b[39m, \u001b[38;5;241m4\u001b[39m, \u001b[38;5;241m4\u001b[39m, \u001b[38;5;241m4\u001b[39m])\n\u001b[0;32m    807\u001b[0m \u001b[38;5;66;03m# if not, fall back to the user specified behavior\u001b[39;00m\n\u001b[0;32m    808\u001b[0m \u001b[38;5;28;01melse\u001b[39;00m:\n\u001b[1;32m--> 809\u001b[0m     ret \u001b[38;5;241m=\u001b[39m base_connection_style(posA, posB, \u001b[38;5;241m*\u001b[39margs, \u001b[38;5;241m*\u001b[39m\u001b[38;5;241m*\u001b[39mkwargs)\n\u001b[0;32m    811\u001b[0m \u001b[38;5;28;01mreturn\u001b[39;00m ret\n",
      "File \u001b[1;32mc:\\Users\\Alam\\miniconda3\\envs\\lda-implementation\\lib\\site-packages\\matplotlib\\patches.py:2756\u001b[0m, in \u001b[0;36mConnectionStyle._Base.__call__\u001b[1;34m(self, posA, posB, shrinkA, shrinkB, patchA, patchB)\u001b[0m\n\u001b[0;32m   2750\u001b[0m path \u001b[38;5;241m=\u001b[39m \u001b[38;5;28mself\u001b[39m\u001b[38;5;241m.\u001b[39mconnect(posA, posB)\n\u001b[0;32m   2751\u001b[0m path \u001b[38;5;241m=\u001b[39m \u001b[38;5;28mself\u001b[39m\u001b[38;5;241m.\u001b[39m_clip(\n\u001b[0;32m   2752\u001b[0m     path,\n\u001b[0;32m   2753\u001b[0m     \u001b[38;5;28mself\u001b[39m\u001b[38;5;241m.\u001b[39m_in_patch(patchA) \u001b[38;5;28;01mif\u001b[39;00m patchA \u001b[38;5;28;01melse\u001b[39;00m \u001b[38;5;28;01mNone\u001b[39;00m,\n\u001b[0;32m   2754\u001b[0m     \u001b[38;5;28mself\u001b[39m\u001b[38;5;241m.\u001b[39m_in_patch(patchB) \u001b[38;5;28;01mif\u001b[39;00m patchB \u001b[38;5;28;01melse\u001b[39;00m \u001b[38;5;28;01mNone\u001b[39;00m,\n\u001b[0;32m   2755\u001b[0m )\n\u001b[1;32m-> 2756\u001b[0m path \u001b[38;5;241m=\u001b[39m \u001b[38;5;28;43mself\u001b[39;49m\u001b[38;5;241;43m.\u001b[39;49m\u001b[43m_clip\u001b[49m\u001b[43m(\u001b[49m\n\u001b[0;32m   2757\u001b[0m \u001b[43m    \u001b[49m\u001b[43mpath\u001b[49m\u001b[43m,\u001b[49m\n\u001b[0;32m   2758\u001b[0m \u001b[43m    \u001b[49m\u001b[43minside_circle\u001b[49m\u001b[43m(\u001b[49m\u001b[38;5;241;43m*\u001b[39;49m\u001b[43mpath\u001b[49m\u001b[38;5;241;43m.\u001b[39;49m\u001b[43mvertices\u001b[49m\u001b[43m[\u001b[49m\u001b[38;5;241;43m0\u001b[39;49m\u001b[43m]\u001b[49m\u001b[43m,\u001b[49m\u001b[43m \u001b[49m\u001b[43mshrinkA\u001b[49m\u001b[43m)\u001b[49m\u001b[43m \u001b[49m\u001b[38;5;28;43;01mif\u001b[39;49;00m\u001b[43m \u001b[49m\u001b[43mshrinkA\u001b[49m\u001b[43m \u001b[49m\u001b[38;5;28;43;01melse\u001b[39;49;00m\u001b[43m \u001b[49m\u001b[38;5;28;43;01mNone\u001b[39;49;00m\u001b[43m,\u001b[49m\n\u001b[0;32m   2759\u001b[0m \u001b[43m    \u001b[49m\u001b[43minside_circle\u001b[49m\u001b[43m(\u001b[49m\u001b[38;5;241;43m*\u001b[39;49m\u001b[43mpath\u001b[49m\u001b[38;5;241;43m.\u001b[39;49m\u001b[43mvertices\u001b[49m\u001b[43m[\u001b[49m\u001b[38;5;241;43m-\u001b[39;49m\u001b[38;5;241;43m1\u001b[39;49m\u001b[43m]\u001b[49m\u001b[43m,\u001b[49m\u001b[43m \u001b[49m\u001b[43mshrinkB\u001b[49m\u001b[43m)\u001b[49m\u001b[43m \u001b[49m\u001b[38;5;28;43;01mif\u001b[39;49;00m\u001b[43m \u001b[49m\u001b[43mshrinkB\u001b[49m\u001b[43m \u001b[49m\u001b[38;5;28;43;01melse\u001b[39;49;00m\u001b[43m \u001b[49m\u001b[38;5;28;43;01mNone\u001b[39;49;00m\n\u001b[0;32m   2760\u001b[0m \u001b[43m\u001b[49m\u001b[43m)\u001b[49m\n\u001b[0;32m   2761\u001b[0m \u001b[38;5;28;01mreturn\u001b[39;00m path\n",
      "File \u001b[1;32mc:\\Users\\Alam\\miniconda3\\envs\\lda-implementation\\lib\\site-packages\\matplotlib\\patches.py:2734\u001b[0m, in \u001b[0;36mConnectionStyle._Base._clip\u001b[1;34m(self, path, in_start, in_stop)\u001b[0m\n\u001b[0;32m   2732\u001b[0m \u001b[38;5;28;01mif\u001b[39;00m in_start:\n\u001b[0;32m   2733\u001b[0m     \u001b[38;5;28;01mtry\u001b[39;00m:\n\u001b[1;32m-> 2734\u001b[0m         _, path \u001b[38;5;241m=\u001b[39m \u001b[43msplit_path_inout\u001b[49m\u001b[43m(\u001b[49m\u001b[43mpath\u001b[49m\u001b[43m,\u001b[49m\u001b[43m \u001b[49m\u001b[43min_start\u001b[49m\u001b[43m)\u001b[49m\n\u001b[0;32m   2735\u001b[0m     \u001b[38;5;28;01mexcept\u001b[39;00m \u001b[38;5;167;01mValueError\u001b[39;00m:\n\u001b[0;32m   2736\u001b[0m         \u001b[38;5;28;01mpass\u001b[39;00m\n",
      "File \u001b[1;32mc:\\Users\\Alam\\miniconda3\\envs\\lda-implementation\\lib\\site-packages\\matplotlib\\bezier.py:351\u001b[0m, in \u001b[0;36msplit_path_inout\u001b[1;34m(path, inside, tolerance, reorder_inout)\u001b[0m\n\u001b[0;32m    348\u001b[0m \u001b[38;5;28;01mfrom\u001b[39;00m \u001b[38;5;21;01m.\u001b[39;00m\u001b[38;5;21;01mpath\u001b[39;00m \u001b[38;5;28;01mimport\u001b[39;00m Path\n\u001b[0;32m    349\u001b[0m path_iter \u001b[38;5;241m=\u001b[39m path\u001b[38;5;241m.\u001b[39miter_segments()\n\u001b[1;32m--> 351\u001b[0m ctl_points, command \u001b[38;5;241m=\u001b[39m \u001b[38;5;28;43mnext\u001b[39;49m\u001b[43m(\u001b[49m\u001b[43mpath_iter\u001b[49m\u001b[43m)\u001b[49m\n\u001b[0;32m    352\u001b[0m begin_inside \u001b[38;5;241m=\u001b[39m inside(ctl_points[\u001b[38;5;241m-\u001b[39m\u001b[38;5;241m2\u001b[39m:])  \u001b[38;5;66;03m# true if begin point is inside\u001b[39;00m\n\u001b[0;32m    354\u001b[0m ctl_points_old \u001b[38;5;241m=\u001b[39m ctl_points\n",
      "\u001b[1;31mStopIteration\u001b[0m: "
     ]
    },
    {
     "data": {
      "image/png": "[encoded data removed]",
      "text/plain": [
       "<Figure size 640x480 with 1 Axes>"
      ]
     },
     "metadata": {},
     "output_type": "display_data"
    }
   ],
   "source": [
    "from pgmpy.models import BayesianNetwork\n",
    "from pgmpy.factors.discrete import TabularCPD\n",
    "import networkx as nx\n",
    "import matplotlib.pyplot as plt\n",
    "\n",
    "model = BayesianNetwork([('alpha', 'theta_a'), ('beta', 'theta_a'), ('theta_a', 'z_d'), ('a_b', 'phi_k'), ('phi_k', 'w'), ('z_d', 'w')])\n",
    "nx.draw(model, with_labels=True)\n",
    "plt.show()\n"
   ]
  },
  {
   "cell_type": "code",
   "execution_count": 8,
   "metadata": {},
   "outputs": [
    {
     "name": "stderr",
     "output_type": "stream",
     "text": [
      "INFO:matplotlib.font_manager:findfont: Found a missing font file.  Rebuilding cache.\n",
      "INFO:matplotlib.font_manager:generated new fontManager\n"
     ]
    },
    {
     "data": {
      "image/png": "[encoded data removed]",
      "text/plain": [
       "<Figure size 640x480 with 1 Axes>"
      ]
     },
     "metadata": {},
     "output_type": "display_data"
    },
    {
     "ename": "",
     "evalue": "",
     "output_type": "error",
     "traceback": [
      "\u001b[1;31mThe Kernel crashed while executing code in the current cell or a previous cell. \n",
      "\u001b[1;31mPlease review the code in the cell(s) to identify a possible cause of the failure. \n",
      "\u001b[1;31mClick <a href='https://aka.ms/vscodeJupyterKernelCrash'>here</a> for more info. \n",
      "\u001b[1;31mView Jupyter <a href='command:jupyter.viewOutput'>log</a> for further details."
     ]
    }
   ],
   "source": [
    "import matplotlib.pyplot as plt\n",
    "import networkx as nx\n",
    "\n",
    "# Create a directed graph\n",
    "G = nx.DiGraph()\n",
    "\n",
    "# Adding nodes with their positions for custom layout\n",
    "nodes = {\"α\": (1, 4), \"β\": (2, 4), \"a\": (3, 4), \"b\": (4, 4),\n",
    "         \"θ_a\": (1.5, 3), \"φ_k\": (3.5, 3),\n",
    "         \"z_d\": (1.5, 2), \"w\": (1.5, 1)}\n",
    "edges = [(\"α\", \"θ_a\"), (\"β\", \"θ_a\"), (\"a\", \"φ_k\"), (\"b\", \"φ_k\"),\n",
    "         (\"θ_a\", \"z_d\"), (\"φ_k\", \"w\"), (\"z_d\", \"w\")]\n",
    "\n",
    "# Add nodes and edges to the graph\n",
    "G.add_nodes_from(nodes)\n",
    "G.add_edges_from(edges)\n",
    "\n",
    "# Draw the graph\n",
    "pos = {node: (xy[0], -xy[1]) for node, xy in nodes.items()}\n",
    "nx.draw(G, pos, with_labels=True, node_size=3000, node_color=\"skyblue\", font_size=10, font_weight='bold', arrowstyle='-|>', arrowsize=12)\n",
    "plt.title('Graphical Model for ADMAGD')\n",
    "plt.axis('off')  # Turn off the axis\n",
    "plt.show()\n"
   ]
  }
 ],
 "metadata": {
  "colab": {
   "collapsed_sections": [
    "UcOPoLTScu4V",
    "S_BBNjjzc4m5",
    "c0cAeBowGUVP"
   ],
   "provenance": []
  },
  "kernelspec": {
   "display_name": "lda-implementation",
   "language": "python",
   "name": "python3"
  },
  "language_info": {
   "codemirror_mode": {
    "name": "ipython",
    "version": 3
   },
   "file_extension": ".py",
   "mimetype": "text/x-python",
   "name": "python",
   "nbconvert_exporter": "python",
   "pygments_lexer": "ipython3",
   "version": "3.10.13"
  },
  "vscode": {
   "interpreter": {
    "hash": "1669881b8e0ee381f1d44208a6e6b4675430ed382f288976bd9acdbb8db18405"
   }
  }
 },
 "nbformat": 4,
 "nbformat_minor": 1
}
